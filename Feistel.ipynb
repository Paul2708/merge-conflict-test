{
 "cells": [
  {
   "cell_type": "code",
   "execution_count": 19,
   "id": "97329b85-1254-4a45-9c88-d8e99df37859",
   "metadata": {
    "execution": {
     "iopub.execute_input": "2024-03-14T13:48:42.398580Z",
     "iopub.status.busy": "2024-03-14T13:48:42.398190Z",
     "iopub.status.idle": "2024-03-14T13:48:42.421345Z",
     "shell.execute_reply": "2024-03-14T13:48:42.419759Z",
     "shell.execute_reply.started": "2024-03-14T13:48:42.398552Z"
    },
    "tags": []
   },
   "outputs": [
    
   ],
   "source": [
    "# plain_text = [0b1110, 0b1011]\n",
    "plain_text = [14, 7]\n",
    "#plain_text = [6, 7]\n",
    "keys = [0b1010]\n",
    "rounds = 1\n",
    "\n",
    "\n",
    "def F(k, text):\n",
    "    return k ^ text\n",
    "\n",
    "\n",
    "def feistel(plain_text, keys, rounds):\n",
    "    L = plain_text[0]\n",
    "    R = plain_text[1]\n",
    "    \n",
    "    for i in range(rounds - 1):\n",
    "        temp_RRR = L\n",
    "        L = R\n",
    "        R = temp_X ^ F(keys[i], R)\n",
    "    \n",
    "    return [L ^ F(keys[-1], R), R]\n",
    "\n",
    "\n",
    "def enc(plain_text, keys):\n",
    "    return feistel(plain_text, keys, len(keys))\n",
    "\n",
    "\n",
    "def dec(cipher, keys):\n",
    "    return feistel(cipher, keys[::-1], len(keys))\n",
    "\n",
    "\n",
    "keys = [137, 55, 33]\n",
    "plain = [200, 103]\n",
    "\n",
    "cipher = enc(plain, keys)\n",
    "print(cipher)\n",
    "print(dec(cipher, keys))"
   ]
  },
  {
   "cell_type": "code",
   "execution_count": 14,
   "id": "2160966d-8ad6-482f-a9aa-c029e3c7902e",
   "metadata": {
    "execution": {
     "iopub.execute_input": "2024-03-14T13:37:25.597843Z",
     "iopub.status.busy": "2024-03-14T13:37:25.597372Z",
     "iopub.status.idle": "2024-03-14T13:37:25.619841Z",
     "shell.execute_reply": "2024-03-14T13:37:25.618526Z",
     "shell.execute_reply.started": "2024-03-14T13:37:25.597815Z"
    },
    "tags": []
   },
   "outputs": [
    {
     "data": {
      "text/plain": [
       "[2, 1]"
      ]
     },
     "execution_count": 14,
     "metadata": {},
     "output_type": "execute_result"
    }
   ],
   "source": [
    "[1, 2][::-1]"
   ]
  },
  {
   "cell_type": "code",
   "execution_count": null,
   "id": "6b662f35-7f15-45e2-ba48-d7697efa24d7",
   "metadata": {},
   "outputs": [],
   "source": []
  }
 ],
 "metadata": {
  "kernelspec": {
   "display_name": "Python 3 (ipykernel)",
   "language": "python",
   "name": "python3"
  },
  "language_info": {
   "codemirror_mode": {
    "name": "ipython",
    "version": 3
   },
   "file_extension": ".py",
   "mimetype": "text/x-python",
   "name": "python",
   "nbconvert_exporter": "python",
   "pygments_lexer": "ipython3",
   "version": "3.10.8"
  }
 },
 "nbformat": 4,
 "nbformat_minor": 5
}
